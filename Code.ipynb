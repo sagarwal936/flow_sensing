{
 "cells": [
  {
   "cell_type": "markdown",
   "id": "corresponding-saturn",
   "metadata": {},
   "source": [
    "# Flow sensing Neural Network"
   ]
  },
  {
   "cell_type": "markdown",
   "id": "hairy-albert",
   "metadata": {},
   "source": []
  },
  {
   "cell_type": "markdown",
   "id": "extraordinary-paintball",
   "metadata": {},
   "source": [
    "### Importing Libraries and Packages"
   ]
  },
  {
   "cell_type": "code",
   "execution_count": 1,
   "id": "ceramic-artist",
   "metadata": {},
   "outputs": [],
   "source": [
    "import pandas as pd\n",
    "import numpy as np\n",
    "from numpy import linalg \n",
    "from matplotlib import cm\n",
    "from matplotlib import pyplot as plt\n",
    "from sklearn.preprocessing import StandardScaler\n",
    "import os\n",
    "import matplotlib.pyplot as plt\n",
    "from keras.layers import Input, Dense, Conv2D,Conv1D, MaxPooling2D,MaxPooling1D, UpSampling2D, UpSampling1D, Conv2DTranspose,Conv1DTranspose\n",
    "from keras.models import Model\n",
    "from keras.preprocessing import image\n",
    "%matplotlib inline\n",
    "from __future__ import print_function\n",
    "import keras\n",
    "from keras.models import Sequential\n",
    "from keras.utils import to_categorical\n",
    "from keras.layers import Dropout, Flatten\n",
    "from keras import layers\n",
    "from keras.layers import LeakyReLU\n",
    "from keras.layers import TimeDistributed\n",
    "import math\n",
    "from keras.callbacks import EarlyStopping, ReduceLROnPlateau, ModelCheckpoint, TensorBoard\n",
    "from keras.models import Sequential\n",
    "from keras.layers import Dense\n",
    "from keras.layers import LSTM\n",
    "from keras.layers import Dropout\n",
    "from keras.optimizers import Adam"
   ]
  },
  {
   "cell_type": "code",
   "execution_count": 15,
   "id": "placed-committee",
   "metadata": {},
   "outputs": [],
   "source": [
    "# Used to clear the pressure data file and save copies of it a temporary folder so that the main data files do not get affected \n",
    "#Used only once \n",
    "import os\n",
    "\n",
    "for i in range(0,5500):\n",
    "    f = open(\"C:/Users/DELL/Desktop/lily-pad/Saved_Files/pressure{}.txt\".format(i),\"r\")\n",
    "    g = open (\"C:/Users/DELL/Desktop/lily-pad/TRIAL/temp1.txt\",\"x\")\n",
    "    lines = f.readlines()\n",
    "    f.close()\n",
    "    \n",
    "    for line in lines:\n",
    "        if not (line.startswith('%')):\n",
    "            g.write(line)\n",
    "        \n",
    "    g.close()\n",
    "    os.rename(\"C:/Users/DELL/Desktop/lily-pad/TRIAL/temp1.txt\",\"C:/Users/DELL/Desktop/lily-pad/TRIAL/pressure{}.txt\".format(i))"
   ]
  },
  {
   "cell_type": "markdown",
   "id": "referenced-contest",
   "metadata": {},
   "source": [
    "### Defining Variables Used later in the Code"
   ]
  },
  {
   "cell_type": "code",
   "execution_count": 2,
   "id": "subtle-decimal",
   "metadata": {},
   "outputs": [],
   "source": [
    "df = pd.DataFrame()\n",
    "counter = []\n",
    "c =0 \n",
    "skip = []\n",
    "t = list(range(0, 197))"
   ]
  },
  {
   "cell_type": "markdown",
   "id": "russian-reader",
   "metadata": {},
   "source": [
    "### SVD Calculation for Each DataSet / Simulation"
   ]
  },
  {
   "cell_type": "code",
   "execution_count": 3,
   "id": "continued-failure",
   "metadata": {},
   "outputs": [],
   "source": [
    "for i in range(0,5500):\n",
    "    \n",
    "# Importing Datasets and Preprocessing\n",
    "    z = pd.read_csv(\"C:/Users/DELL/Desktop/lily-pad/TRIAL/pressure{}.txt\".format(i),header = None , delimiter = ' ')  #Type the value of File name of be plotted \n",
    "    z.drop(z.tail(0).index,inplace=True,axis=0) \n",
    "    z = z.add_prefix('Pressure_')\n",
    "    del z[\"Pressure_201\"]\n",
    "    z = z.rename({'Pressure_0': 'Time_Step'}, axis='columns')\n",
    "    z = z.dropna()\n",
    "    z = z.drop(columns = ['Time_Step'])\n",
    "    Z = z.to_numpy()\n",
    "    Z= Z.T\n",
    "# SVD for each Dataset    \n",
    "    Z = StandardScaler().fit_transform(Z)\n",
    "    U , S , VT = np.linalg.svd(Z,full_matrices=0)\n",
    "# Removing Error / Junk Data     \n",
    "    if len(S) < 50:\n",
    "        skip.append(i)\n",
    "        continue\n",
    "    l = 0\n",
    "    count = 0\n",
    "    a = pd.DataFrame(S).sum(axis = 0, skipna = True).to_numpy()\n",
    "# Choosing the number of Datasets with the eigen energy amounting to 98% for each file\n",
    "    for j in range(len(S)):\n",
    "        l += S[j]\n",
    "        if l/a <= .98:\n",
    "            count += 1\n",
    "    counter.append(count)\n",
    "    df[i] = S[:50]\n",
    "    c=c+1\n",
    "df = df.T\n",
    "df.reset_index(inplace = True, drop = True)"
   ]
  },
  {
   "cell_type": "code",
   "execution_count": 5,
   "id": "offensive-festival",
   "metadata": {},
   "outputs": [
    {
     "data": {
      "text/plain": [
       "(5499, 50)"
      ]
     },
     "execution_count": 5,
     "metadata": {},
     "output_type": "execute_result"
    }
   ],
   "source": [
    "df.shape"
   ]
  },
  {
   "cell_type": "code",
   "execution_count": 6,
   "id": "pregnant-semiconductor",
   "metadata": {},
   "outputs": [
    {
     "data": {
      "text/plain": [
       "[2372]"
      ]
     },
     "execution_count": 6,
     "metadata": {},
     "output_type": "execute_result"
    }
   ],
   "source": [
    "skip"
   ]
  },
  {
   "cell_type": "markdown",
   "id": "innocent-retrieval",
   "metadata": {},
   "source": [
    "### Importing the Output values for the Model i.e Distances/Position"
   ]
  },
  {
   "cell_type": "code",
   "execution_count": 23,
   "id": "amazing-peace",
   "metadata": {},
   "outputs": [],
   "source": [
    "a_Values = pd.read_csv(\"C:/Users/DELL/Desktop/lily-pad/randomization.csv\", header = None)\n",
    "a_Values = a_Values.add_prefix('a_')\n",
    "a_Values = a_Values.loc[0: , :  ] \n",
    "a_Values = a_Values.dropna()\n",
    "#values = a_Values.loc[0:5]\n",
    "\n",
    "# Choosing the pertinent Datasets \n",
    "values = a_Values.drop(columns=['a_4'])\n",
    "#Removing the Junk DataFiles\n",
    "final_values = values.drop(skip)\n",
    "final_values.reset_index(inplace = True, drop = True)\n"
   ]
  },
  {
   "cell_type": "code",
   "execution_count": 25,
   "id": "governmental-conducting",
   "metadata": {},
   "outputs": [
    {
     "data": {
      "text/plain": [
       "(5499, 5)"
      ]
     },
     "execution_count": 25,
     "metadata": {},
     "output_type": "execute_result"
    }
   ],
   "source": [
    "final_values.shape"
   ]
  },
  {
   "cell_type": "markdown",
   "id": "preceding-arrest",
   "metadata": {},
   "source": [
    "### Finding the Ideal Number of Eigen Values using Mean / Std "
   ]
  },
  {
   "cell_type": "code",
   "execution_count": 26,
   "id": "suitable-trash",
   "metadata": {},
   "outputs": [
    {
     "data": {
      "text/plain": [
       "22"
      ]
     },
     "execution_count": 26,
     "metadata": {},
     "output_type": "execute_result"
    }
   ],
   "source": [
    "#plt.scatter(t,counter)\n",
    "Description = pd.DataFrame(counter).describe()\n",
    "components = Description.loc['mean'] + 2 * Description.loc['std']  \n",
    "components = math.ceil(components)\n",
    "components"
   ]
  },
  {
   "cell_type": "code",
   "execution_count": 27,
   "id": "instrumental-stage",
   "metadata": {},
   "outputs": [],
   "source": [
    "from sklearn.preprocessing import StandardScaler\n",
    "x_std = StandardScaler().fit_transform(df)\n",
    "x_std = x_std[:,:components]"
   ]
  },
  {
   "cell_type": "markdown",
   "id": "modular-screening",
   "metadata": {},
   "source": [
    "### Calcualtion PCA/POD"
   ]
  },
  {
   "cell_type": "code",
   "execution_count": 28,
   "id": "qualified-auckland",
   "metadata": {},
   "outputs": [],
   "source": [
    "from sklearn import decomposition \n",
    "pca = decomposition.PCA(n_components = components)\n",
    "sklearn_pca_x = pca.fit_transform(x_std)\n",
    "sklearn_result = pd.DataFrame(sklearn_pca_x)"
   ]
  },
  {
   "cell_type": "code",
   "execution_count": null,
   "id": "greater-campaign",
   "metadata": {},
   "outputs": [],
   "source": []
  },
  {
   "cell_type": "markdown",
   "id": "sixth-coalition",
   "metadata": {},
   "source": [
    "### Training the Model "
   ]
  },
  {
   "cell_type": "code",
   "execution_count": 29,
   "id": "declared-flour",
   "metadata": {},
   "outputs": [],
   "source": [
    "X_train = np.asarray(sklearn_result.loc[:5000])\n",
    "Y_train = np.asarray(final_values.loc[:5000])\n",
    "\n",
    "X_Validation = np.asarray(sklearn_result.loc[5001:5250])\n",
    "Y_Validation = np.asarray(final_values.loc[5001:5250])\n",
    "\n",
    "X_test = np.asarray(sklearn_result.loc[5251:])\n",
    "Y_test = np.asarray(final_values.loc[5251:])"
   ]
  },
  {
   "cell_type": "code",
   "execution_count": 30,
   "id": "stupid-chancellor",
   "metadata": {},
   "outputs": [],
   "source": [
    "input_layer = keras.Input(shape=(components), name=\"INPUT\")\n",
    "hidden_layer_1 = layers.Dense(256, activation='relu', name=\"HIDDEN_1\")(input_layer)\n",
    "code_layer = layers.Dense(256, activation='relu', name=\"CODE\")(hidden_layer_1)\n",
    "output_layer = layers.Dense(5, activation='relu', name=\"OUTPUT\")(code_layer)"
   ]
  },
  {
   "cell_type": "code",
   "execution_count": 31,
   "id": "becoming-sentence",
   "metadata": {},
   "outputs": [
    {
     "name": "stdout",
     "output_type": "stream",
     "text": [
      "Model: \"functional_1\"\n",
      "_________________________________________________________________\n",
      "Layer (type)                 Output Shape              Param #   \n",
      "=================================================================\n",
      "INPUT (InputLayer)           [(None, 22)]              0         \n",
      "_________________________________________________________________\n",
      "HIDDEN_1 (Dense)             (None, 256)               5888      \n",
      "_________________________________________________________________\n",
      "CODE (Dense)                 (None, 256)               65792     \n",
      "_________________________________________________________________\n",
      "OUTPUT (Dense)               (None, 5)                 1285      \n",
      "=================================================================\n",
      "Total params: 72,965\n",
      "Trainable params: 72,965\n",
      "Non-trainable params: 0\n",
      "_________________________________________________________________\n"
     ]
    }
   ],
   "source": [
    "AE = Model(input_layer, output_layer)\n",
    "AE.compile(optimizer='adam', loss='mean_squared_error')\n",
    "AE.summary()"
   ]
  },
  {
   "cell_type": "code",
   "execution_count": 32,
   "id": "distinct-apollo",
   "metadata": {
    "scrolled": false
   },
   "outputs": [
    {
     "name": "stdout",
     "output_type": "stream",
     "text": [
      "Epoch 1/100\n",
      "501/501 [==============================] - 2s 3ms/step - loss: 0.3989 - val_loss: 0.3418\n",
      "Epoch 2/100\n",
      "501/501 [==============================] - 1s 2ms/step - loss: 0.3348 - val_loss: 0.3128\n",
      "Epoch 3/100\n",
      "501/501 [==============================] - 1s 2ms/step - loss: 0.3165 - val_loss: 0.3012\n",
      "Epoch 4/100\n",
      "501/501 [==============================] - 1s 2ms/step - loss: 0.3065 - val_loss: 0.2905\n",
      "Epoch 5/100\n",
      "501/501 [==============================] - 1s 2ms/step - loss: 0.3002 - val_loss: 0.2833\n",
      "Epoch 6/100\n",
      "501/501 [==============================] - 1s 3ms/step - loss: 0.2950 - val_loss: 0.2812\n",
      "Epoch 7/100\n",
      "501/501 [==============================] - 1s 2ms/step - loss: 0.2918 - val_loss: 0.2727\n",
      "Epoch 8/100\n",
      "501/501 [==============================] - 1s 2ms/step - loss: 0.2870 - val_loss: 0.2797\n",
      "Epoch 9/100\n",
      "501/501 [==============================] - 1s 2ms/step - loss: 0.2851 - val_loss: 0.2693\n",
      "Epoch 10/100\n",
      "501/501 [==============================] - 1s 2ms/step - loss: 0.2814 - val_loss: 0.2800\n",
      "Epoch 11/100\n",
      "501/501 [==============================] - 1s 2ms/step - loss: 0.2787 - val_loss: 0.2610\n",
      "Epoch 12/100\n",
      "501/501 [==============================] - 1s 2ms/step - loss: 0.2766 - val_loss: 0.2647\n",
      "Epoch 13/100\n",
      "501/501 [==============================] - 1s 2ms/step - loss: 0.2741 - val_loss: 0.2720\n",
      "Epoch 14/100\n",
      "501/501 [==============================] - 1s 2ms/step - loss: 0.2706 - val_loss: 0.2586\n",
      "Epoch 15/100\n",
      "501/501 [==============================] - 1s 2ms/step - loss: 0.2696 - val_loss: 0.2594\n",
      "Epoch 16/100\n",
      "501/501 [==============================] - 1s 2ms/step - loss: 0.2681 - val_loss: 0.2612\n",
      "Epoch 17/100\n",
      "501/501 [==============================] - 1s 2ms/step - loss: 0.2660 - val_loss: 0.2636\n",
      "Epoch 18/100\n",
      "501/501 [==============================] - 1s 2ms/step - loss: 0.2647 - val_loss: 0.2622\n",
      "Epoch 19/100\n",
      "501/501 [==============================] - 1s 2ms/step - loss: 0.2624 - val_loss: 0.2517\n",
      "Epoch 20/100\n",
      "501/501 [==============================] - 1s 3ms/step - loss: 0.2389 - val_loss: 0.2081\n",
      "Epoch 21/100\n",
      "501/501 [==============================] - 1s 2ms/step - loss: 0.2049 - val_loss: 0.2022\n",
      "Epoch 22/100\n",
      "501/501 [==============================] - 1s 2ms/step - loss: 0.2028 - val_loss: 0.2007\n",
      "Epoch 23/100\n",
      "501/501 [==============================] - 1s 2ms/step - loss: 0.1981 - val_loss: 0.2031\n",
      "Epoch 24/100\n",
      "501/501 [==============================] - 1s 2ms/step - loss: 0.1962 - val_loss: 0.2042\n",
      "Epoch 25/100\n",
      "501/501 [==============================] - 2s 3ms/step - loss: 0.1939 - val_loss: 0.1918\n",
      "Epoch 26/100\n",
      "501/501 [==============================] - 1s 2ms/step - loss: 0.1908 - val_loss: 0.1933\n",
      "Epoch 27/100\n",
      "501/501 [==============================] - 1s 2ms/step - loss: 0.1910 - val_loss: 0.2040\n",
      "Epoch 28/100\n",
      "501/501 [==============================] - 1s 3ms/step - loss: 0.1861 - val_loss: 0.1931\n",
      "Epoch 29/100\n",
      "501/501 [==============================] - 1s 3ms/step - loss: 0.1863 - val_loss: 0.1987\n",
      "Epoch 30/100\n",
      "501/501 [==============================] - 1s 3ms/step - loss: 0.1841 - val_loss: 0.1923\n",
      "Epoch 31/100\n",
      "501/501 [==============================] - 1s 2ms/step - loss: 0.1821 - val_loss: 0.2000\n",
      "Epoch 32/100\n",
      "501/501 [==============================] - 1s 3ms/step - loss: 0.1802 - val_loss: 0.1943\n",
      "Epoch 33/100\n",
      "501/501 [==============================] - 1s 2ms/step - loss: 0.1798 - val_loss: 0.1992\n",
      "Epoch 34/100\n",
      "501/501 [==============================] - 1s 3ms/step - loss: 0.1779 - val_loss: 0.1881\n",
      "Epoch 35/100\n",
      "501/501 [==============================] - 1s 3ms/step - loss: 0.1748 - val_loss: 0.1877\n",
      "Epoch 36/100\n",
      "501/501 [==============================] - 2s 3ms/step - loss: 0.1739 - val_loss: 0.1988\n",
      "Epoch 37/100\n",
      "501/501 [==============================] - 1s 2ms/step - loss: 0.1724 - val_loss: 0.1870\n",
      "Epoch 38/100\n",
      "501/501 [==============================] - 1s 2ms/step - loss: 0.1705 - val_loss: 0.1906\n",
      "Epoch 39/100\n",
      "501/501 [==============================] - 1s 2ms/step - loss: 0.1722 - val_loss: 0.1927\n",
      "Epoch 40/100\n",
      "501/501 [==============================] - 1s 2ms/step - loss: 0.1691 - val_loss: 0.1949\n",
      "Epoch 41/100\n",
      "501/501 [==============================] - 1s 3ms/step - loss: 0.1678 - val_loss: 0.1889\n",
      "Epoch 42/100\n",
      "501/501 [==============================] - 1s 2ms/step - loss: 0.1664 - val_loss: 0.1925\n",
      "Epoch 43/100\n",
      "501/501 [==============================] - 1s 2ms/step - loss: 0.1647 - val_loss: 0.1941\n",
      "Epoch 44/100\n",
      "501/501 [==============================] - 1s 3ms/step - loss: 0.1647 - val_loss: 0.1883\n",
      "Epoch 45/100\n",
      "501/501 [==============================] - 1s 2ms/step - loss: 0.1617 - val_loss: 0.1887\n",
      "Epoch 46/100\n",
      "501/501 [==============================] - 1s 2ms/step - loss: 0.1613 - val_loss: 0.1954\n",
      "Epoch 47/100\n",
      "501/501 [==============================] - 1s 2ms/step - loss: 0.1590 - val_loss: 0.1937\n",
      "Epoch 48/100\n",
      "501/501 [==============================] - 1s 2ms/step - loss: 0.1587 - val_loss: 0.1861\n",
      "Epoch 49/100\n",
      "501/501 [==============================] - 1s 2ms/step - loss: 0.1568 - val_loss: 0.1806\n",
      "Epoch 50/100\n",
      "501/501 [==============================] - 1s 2ms/step - loss: 0.1569 - val_loss: 0.1851\n",
      "Epoch 51/100\n",
      "501/501 [==============================] - 1s 2ms/step - loss: 0.1547 - val_loss: 0.1927\n",
      "Epoch 52/100\n",
      "501/501 [==============================] - 1s 2ms/step - loss: 0.1542 - val_loss: 0.1843\n",
      "Epoch 53/100\n",
      "501/501 [==============================] - 1s 2ms/step - loss: 0.1531 - val_loss: 0.1828\n",
      "Epoch 54/100\n",
      "501/501 [==============================] - 1s 2ms/step - loss: 0.1529 - val_loss: 0.1992\n",
      "Epoch 55/100\n",
      "501/501 [==============================] - 1s 2ms/step - loss: 0.1514 - val_loss: 0.1864\n",
      "Epoch 56/100\n",
      "501/501 [==============================] - 1s 2ms/step - loss: 0.1491 - val_loss: 0.1906\n",
      "Epoch 57/100\n",
      "501/501 [==============================] - 1s 2ms/step - loss: 0.1490 - val_loss: 0.1969\n",
      "Epoch 58/100\n",
      "501/501 [==============================] - 1s 2ms/step - loss: 0.1485 - val_loss: 0.1897\n",
      "Epoch 59/100\n",
      "501/501 [==============================] - 1s 2ms/step - loss: 0.1490 - val_loss: 0.1888\n",
      "Epoch 60/100\n",
      "501/501 [==============================] - 1s 3ms/step - loss: 0.1469 - val_loss: 0.1957\n",
      "Epoch 61/100\n",
      "501/501 [==============================] - 1s 3ms/step - loss: 0.1451 - val_loss: 0.1934\n",
      "Epoch 62/100\n",
      "501/501 [==============================] - 1s 3ms/step - loss: 0.1458 - val_loss: 0.1928\n",
      "Epoch 63/100\n",
      "501/501 [==============================] - 1s 3ms/step - loss: 0.1463 - val_loss: 0.1903\n",
      "Epoch 64/100\n",
      "501/501 [==============================] - 1s 2ms/step - loss: 0.1441 - val_loss: 0.1955\n",
      "Epoch 65/100\n",
      "501/501 [==============================] - 1s 2ms/step - loss: 0.1436 - val_loss: 0.1902\n",
      "Epoch 66/100\n",
      "501/501 [==============================] - 1s 2ms/step - loss: 0.1412 - val_loss: 0.1903\n",
      "Epoch 67/100\n",
      "501/501 [==============================] - 1s 2ms/step - loss: 0.1411 - val_loss: 0.2001\n",
      "Epoch 68/100\n",
      "501/501 [==============================] - 1s 2ms/step - loss: 0.1383 - val_loss: 0.1827\n",
      "Epoch 69/100\n",
      "501/501 [==============================] - 1s 3ms/step - loss: 0.1391 - val_loss: 0.2060\n",
      "Epoch 70/100\n",
      "501/501 [==============================] - 1s 2ms/step - loss: 0.1394 - val_loss: 0.1963\n",
      "Epoch 71/100\n",
      "501/501 [==============================] - 1s 3ms/step - loss: 0.1383 - val_loss: 0.1941\n",
      "Epoch 72/100\n",
      "501/501 [==============================] - 1s 3ms/step - loss: 0.1370 - val_loss: 0.1961\n",
      "Epoch 73/100\n",
      "501/501 [==============================] - 1s 3ms/step - loss: 0.1358 - val_loss: 0.1859\n",
      "Epoch 74/100\n",
      "501/501 [==============================] - 1s 3ms/step - loss: 0.1360 - val_loss: 0.1970\n",
      "Epoch 75/100\n",
      "501/501 [==============================] - 1s 3ms/step - loss: 0.1340 - val_loss: 0.2001\n",
      "Epoch 76/100\n",
      "501/501 [==============================] - 1s 2ms/step - loss: 0.1326 - val_loss: 0.1986\n",
      "Epoch 77/100\n",
      "501/501 [==============================] - 1s 2ms/step - loss: 0.1339 - val_loss: 0.1983\n",
      "Epoch 78/100\n",
      "501/501 [==============================] - 1s 3ms/step - loss: 0.1307 - val_loss: 0.2029\n",
      "Epoch 79/100\n",
      "501/501 [==============================] - 1s 2ms/step - loss: 0.1312 - val_loss: 0.2052\n",
      "Epoch 80/100\n",
      "501/501 [==============================] - 1s 2ms/step - loss: 0.1317 - val_loss: 0.18550s - loss: 0\n",
      "Epoch 81/100\n"
     ]
    },
    {
     "name": "stdout",
     "output_type": "stream",
     "text": [
      "501/501 [==============================] - 1s 2ms/step - loss: 0.1287 - val_loss: 0.1855\n",
      "Epoch 82/100\n",
      "501/501 [==============================] - 1s 2ms/step - loss: 0.1286 - val_loss: 0.1934\n",
      "Epoch 83/100\n",
      "501/501 [==============================] - 1s 2ms/step - loss: 0.1268 - val_loss: 0.1942\n",
      "Epoch 84/100\n",
      "501/501 [==============================] - 1s 2ms/step - loss: 0.1281 - val_loss: 0.1895\n",
      "Epoch 85/100\n",
      "501/501 [==============================] - 1s 2ms/step - loss: 0.1261 - val_loss: 0.1838\n",
      "Epoch 86/100\n",
      "501/501 [==============================] - 1s 2ms/step - loss: 0.1269 - val_loss: 0.1973\n",
      "Epoch 87/100\n",
      "501/501 [==============================] - 1s 2ms/step - loss: 0.1265 - val_loss: 0.1900\n",
      "Epoch 88/100\n",
      "501/501 [==============================] - 1s 2ms/step - loss: 0.1251 - val_loss: 0.1895\n",
      "Epoch 89/100\n",
      "501/501 [==============================] - 1s 2ms/step - loss: 0.1251 - val_loss: 0.1944\n",
      "Epoch 90/100\n",
      "501/501 [==============================] - 1s 2ms/step - loss: 0.1240 - val_loss: 0.1943\n",
      "Epoch 91/100\n",
      "501/501 [==============================] - 1s 2ms/step - loss: 0.1239 - val_loss: 0.1927\n",
      "Epoch 92/100\n",
      "501/501 [==============================] - 1s 2ms/step - loss: 0.1225 - val_loss: 0.2029\n",
      "Epoch 93/100\n",
      "501/501 [==============================] - 1s 2ms/step - loss: 0.1223 - val_loss: 0.1876\n",
      "Epoch 94/100\n",
      "501/501 [==============================] - 1s 2ms/step - loss: 0.1220 - val_loss: 0.1886\n",
      "Epoch 95/100\n",
      "501/501 [==============================] - 1s 2ms/step - loss: 0.1206 - val_loss: 0.1817\n",
      "Epoch 96/100\n",
      "501/501 [==============================] - 1s 2ms/step - loss: 0.1194 - val_loss: 0.1868\n",
      "Epoch 97/100\n",
      "501/501 [==============================] - 1s 2ms/step - loss: 0.1200 - val_loss: 0.1855\n",
      "Epoch 98/100\n",
      "501/501 [==============================] - 1s 2ms/step - loss: 0.1191 - val_loss: 0.1888\n",
      "Epoch 99/100\n",
      "501/501 [==============================] - 1s 2ms/step - loss: 0.1170 - val_loss: 0.1886\n",
      "Epoch 100/100\n",
      "501/501 [==============================] - 1s 2ms/step - loss: 0.1178 - val_loss: 0.1983\n"
     ]
    }
   ],
   "source": [
    "history = AE.fit(X_train, Y_train, epochs=100 , batch_size= 10, validation_data= (X_Validation,Y_Validation))"
   ]
  },
  {
   "cell_type": "code",
   "execution_count": 33,
   "id": "boolean-condition",
   "metadata": {},
   "outputs": [
    {
     "name": "stdout",
     "output_type": "stream",
     "text": [
      "dict_keys(['loss', 'val_loss'])\n"
     ]
    }
   ],
   "source": [
    "print(history.history.keys())"
   ]
  },
  {
   "cell_type": "code",
   "execution_count": 45,
   "id": "weekly-quantum",
   "metadata": {},
   "outputs": [
    {
     "data": {
      "image/png": "[encoded data removed]",
      "text/plain": [
       "<Figure size 432x288 with 1 Axes>"
      ]
     },
     "metadata": {
      "needs_background": "light"
     },
     "output_type": "display_data"
    }
   ],
   "source": [
    "plt.plot(history.history['loss'])\n",
    "plt.plot(history.history['val_loss'])\n",
    "plt.title('model loss')\n",
    "plt.ylabel('loss')\n",
    "plt.xlabel('epoch')\n",
    "plt.legend(['val_loss', 'loss'], loc='upper left')\n",
    "#plt.savefig('Loss_Plot.png',dpi=300)\n",
    "plt.show()"
   ]
  },
  {
   "cell_type": "markdown",
   "id": "running-demand",
   "metadata": {},
   "source": [
    "### Predicting Using the Trained Model "
   ]
  },
  {
   "cell_type": "code",
   "execution_count": 217,
   "id": "regulation-reputation",
   "metadata": {},
   "outputs": [
    {
     "data": {
      "text/plain": [
       "a_0    0.763705\n",
       "a_1    0.162162\n",
       "a_2    2.781452\n",
       "a_3    0.782328\n",
       "a_5    0.000000\n",
       "Name: 20, dtype: float64"
      ]
     },
     "execution_count": 217,
     "metadata": {},
     "output_type": "execute_result"
    }
   ],
   "source": [
    "test.loc[20]"
   ]
  },
  {
   "cell_type": "code",
   "execution_count": 218,
   "id": "explicit-bidding",
   "metadata": {},
   "outputs": [
    {
     "data": {
      "text/plain": [
       "0    0.953305\n",
       "1    0.477658\n",
       "2    1.372075\n",
       "3    0.882479\n",
       "4    0.700021\n",
       "Name: 20, dtype: float32"
      ]
     },
     "execution_count": 218,
     "metadata": {},
     "output_type": "execute_result"
    }
   ],
   "source": [
    "sample.loc[20]"
   ]
  },
  {
   "cell_type": "code",
   "execution_count": 42,
   "id": "demographic-medium",
   "metadata": {
    "scrolled": true
   },
   "outputs": [
    {
     "data": {
      "image/png": "[encoded data removed]",
      "text/plain": [
       "<Figure size 432x288 with 1 Axes>"
      ]
     },
     "metadata": {
      "needs_background": "light"
     },
     "output_type": "display_data"
    }
   ],
   "source": [
    "decoded_data = AE.predict(X_test)\n",
    "dl = pd.DataFrame(decoded_data)\n",
    "# Taking the first 50 trained datasets for the graph\n",
    "sample = dl.loc[:50]\n",
    "sample.reset_index(inplace = True, drop = True)\n",
    "# Taking the corresponding 50 datasets of the training\n",
    "test = final_values.iloc[5251:5301]\n",
    "test.reset_index(inplace = True, drop = True)\n",
    "\n",
    "# Plotting the results for a_0,a_1,a_2,a_3\n",
    "\n",
    "plt.plot(test['a_2'])\n",
    "plt.plot(sample[2],'red')\n",
    "# plt.scatter(5,1.146255,color='green')\n",
    "# plt.scatter(20,0.782328,color='green')\n",
    "# plt.scatter(30,0.843887,color='green')\n",
    "# plt.scatter(39,0.813857,color='green')\n",
    "plt.title('a_3 Test vs Model')\n",
    "plt.ylabel('Values')\n",
    "plt.xlabel('epoch')\n",
    "plt.legend(['Original Values','Modeled Values'], loc='upper left')\n",
    "#plt.savefig('a_3 Test VS Model.png',dpi=300)\n",
    "plt.show()\n"
   ]
  },
  {
   "cell_type": "markdown",
   "id": "higher-fancy",
   "metadata": {},
   "source": [
    "### Predicting the a_5 ( i.e Object Detection)"
   ]
  },
  {
   "cell_type": "code",
   "execution_count": 38,
   "id": "pressed-tribe",
   "metadata": {},
   "outputs": [],
   "source": [
    "mid = pd.DataFrame(dl[4]).describe()\n",
    "fd = pd.DataFrame()\n",
    "fd[1]=1\n",
    "for i in range(0,248):\n",
    "    if dl[4].iloc[i] <= (mid.loc['mean'].values):\n",
    "        fd.loc[i] = 0\n",
    "    else:\n",
    "        fd.loc[i] = 1 \n",
    "a1 = final_values.iloc[5251:]\n",
    "aa = a1['a_5']\n",
    "aa.reset_index(inplace = True, drop = True)   "
   ]
  },
  {
   "cell_type": "code",
   "execution_count": 39,
   "id": "similar-limit",
   "metadata": {},
   "outputs": [
    {
     "name": "stdout",
     "output_type": "stream",
     "text": [
      "72.58064516129032 %\n"
     ]
    }
   ],
   "source": [
    "# Accuracy for Predicting Whether the object is Ellipse or Rectangle \n",
    "a=0\n",
    "for i in range(0,248):\n",
    "    if fd.iloc[i].values == aa[i]:\n",
    "        a = a+1\n",
    "accuracy = a/len(aa) * 100\n",
    "print(str(accuracy) + \" %\")"
   ]
  },
  {
   "cell_type": "markdown",
   "id": "induced-sector",
   "metadata": {},
   "source": [
    "## Plotting the modes for a simulation"
   ]
  },
  {
   "cell_type": "code",
   "execution_count": 43,
   "id": "aquatic-duplicate",
   "metadata": {},
   "outputs": [
    {
     "data": {
      "image/png": "[encoded data removed]",
      "text/plain": [
       "<Figure size 432x288 with 1 Axes>"
      ]
     },
     "metadata": {
      "needs_background": "light"
     },
     "output_type": "display_data"
    }
   ],
   "source": [
    "mode =[]\n",
    "l = 0\n",
    "for i in range(0,len(S)):\n",
    "    l = l + S[i]\n",
    "    mode.append(l)\n",
    "\n",
    "plt.plot(mode[:30])\n",
    "#plt.title('Mode for SVD')\n",
    "plt.ylabel('Sum of Energy')\n",
    "plt.xlabel('No of modes')\n",
    "#plt.savefig('SVD_Mode_Plot.png',dpi=300)\n",
    "plt.show()"
   ]
  },
  {
   "cell_type": "code",
   "execution_count": 44,
   "id": "marked-duncan",
   "metadata": {},
   "outputs": [
    {
     "data": {
      "text/plain": [
       "array([0.45315188])"
      ]
     },
     "execution_count": 44,
     "metadata": {},
     "output_type": "execute_result"
    }
   ],
   "source": [
    "mid.loc['mean'].values"
   ]
  },
  {
   "cell_type": "code",
   "execution_count": null,
   "id": "actual-determination",
   "metadata": {},
   "outputs": [],
   "source": []
  },
  {
   "cell_type": "code",
   "execution_count": 236,
   "id": "known-obligation",
   "metadata": {},
   "outputs": [],
   "source": [
    "dl.to_excel(\"output.xlsx\")"
   ]
  },
  {
   "cell_type": "code",
   "execution_count": null,
   "id": "modified-camera",
   "metadata": {},
   "outputs": [],
   "source": []
  }
 ],
 "metadata": {
  "kernelspec": {
   "display_name": "Python 3",
   "language": "python",
   "name": "python3"
  },
  "language_info": {
   "codemirror_mode": {
    "name": "ipython",
    "version": 3
   },
   "file_extension": ".py",
   "mimetype": "text/x-python",
   "name": "python",
   "nbconvert_exporter": "python",
   "pygments_lexer": "ipython3",
   "version": "3.8.8"
  }
 },
 "nbformat": 4,
 "nbformat_minor": 5
}
